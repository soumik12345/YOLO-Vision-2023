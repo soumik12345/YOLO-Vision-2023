{
 "cells": [
  {
   "attachments": {},
   "cell_type": "markdown",
   "metadata": {},
   "source": [
    "# Train the Final Models for Production"
   ]
  },
  {
   "attachments": {},
   "cell_type": "markdown",
   "metadata": {},
   "source": [
    "## Initial Setup"
   ]
  },
  {
   "cell_type": "code",
   "execution_count": null,
   "metadata": {},
   "outputs": [],
   "source": [
    "!pip install -U ultralytics wandb"
   ]
  },
  {
   "cell_type": "code",
   "execution_count": null,
   "metadata": {},
   "outputs": [],
   "source": [
    "import os\n",
    "import yaml\n",
    "\n",
    "from ultralytics import YOLO\n",
    "\n",
    "import wandb\n",
    "from wandb.integration.ultralytics import add_wandb_callback"
   ]
  },
  {
   "attachments": {},
   "cell_type": "markdown",
   "metadata": {},
   "source": [
    "## Initialize the Experiment"
   ]
  },
  {
   "cell_type": "code",
   "execution_count": null,
   "metadata": {},
   "outputs": [],
   "source": [
    "sweep_run = \"reviewco/object-detection-bdd/2yvwiulh\"\n",
    "\n",
    "wandb.init(\n",
    "    project=\"object-detection-bdd\",\n",
    "    config=wandb.Api().run(sweep_run).config, # Set the configs to the the configs of the best candidate from your sweep\n",
    "    job_type=\"final/train\",\n",
    ")\n",
    "\n",
    "config = wandb.config\n",
    "config.epochs = 30"
   ]
  },
  {
   "attachments": {},
   "cell_type": "markdown",
   "metadata": {},
   "source": [
    "## Fetch and Preprocess the Dataset"
   ]
  },
  {
   "cell_type": "code",
   "execution_count": null,
   "metadata": {},
   "outputs": [],
   "source": [
    "# Fetch the bdd-100k dataset hosted as a W&B dataset artifact\n",
    "artifact = wandb.use_artifact(\n",
    "    \"reviewco/object-detection-bdd/bdd100k-ultralytics-format:latest\", type=\"dataset\"\n",
    ")\n",
    "artifact_dir = artifact.download()\n",
    "\n",
    "# Preprocess the data.yaml file in the dataset\n",
    "metadata_file = os.path.join(artifact_dir, \"data.yaml\")\n",
    "with open(metadata_file, \"r\") as yaml_file:\n",
    "    metadata = yaml.safe_load(yaml_file)\n",
    "metadata[\"path\"] = os.path.join(\n",
    "    os.path.dirname(os.path.realpath(__file__)), artifact_dir\n",
    ")\n",
    "with open(metadata_file, \"w\") as yaml_file:\n",
    "    yaml.dump(metadata, yaml_file)"
   ]
  },
  {
   "attachments": {},
   "cell_type": "markdown",
   "metadata": {},
   "source": [
    "## Training and Validation"
   ]
  },
  {
   "cell_type": "code",
   "execution_count": null,
   "metadata": {},
   "outputs": [],
   "source": [
    "model = YOLO(f\"{config.model}.pt\")\n",
    "\n",
    "add_wandb_callback(model, enable_model_checkpointing=True, max_validation_batches=4)"
   ]
  },
  {
   "cell_type": "code",
   "execution_count": null,
   "metadata": {},
   "outputs": [],
   "source": [
    "# Train with all the hyperparameters set to the desired values\n",
    "model.train(\n",
    "    data=metadata_file,\n",
    "    epochs=config.epochs,\n",
    "    batch=4,\n",
    "    imgsz=config.imgsz,\n",
    "    lr0=config.lr0,\n",
    "    lrf=config.lrf,\n",
    "    momentum=config.momentum,\n",
    "    weight_decay=config.weight_decay,\n",
    "    warmup_epochs=config.warmup_epochs,\n",
    "    warmup_momentum=config.warmup_momentum,\n",
    "    box=config.box,\n",
    "    cls=config.cls,\n",
    "    hsv_h=config.hsv_h,\n",
    "    hsv_s=config.hsv_s,\n",
    "    hsv_v=config.hsv_v,\n",
    "    degrees=config.degrees,\n",
    "    translate=config.translate,\n",
    "    scale=config.scale,\n",
    "    shear=config.shear,\n",
    "    perspective=config.perspective,\n",
    "    flipud=config.flipud,\n",
    "    fliplr=config.fliplr,\n",
    "    mosaic=config.mosaic,\n",
    "    mixup=config.mixup,\n",
    "    copy_paste=config.copy_paste,\n",
    ")\n",
    "\n",
    "# Validate the model\n",
    "model.val()\n",
    "\n",
    "# Finish the experiment\n",
    "wandb.finish()"
   ]
  }
 ],
 "metadata": {
  "language_info": {
   "name": "python"
  },
  "orig_nbformat": 4
 },
 "nbformat": 4,
 "nbformat_minor": 2
}
