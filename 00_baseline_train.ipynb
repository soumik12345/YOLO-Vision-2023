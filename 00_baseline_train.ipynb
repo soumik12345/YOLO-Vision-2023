{
 "cells": [
  {
   "attachments": {},
   "cell_type": "markdown",
   "metadata": {},
   "source": [
    "# Establish a Baseline Training and Validation Pipeline"
   ]
  },
  {
   "attachments": {},
   "cell_type": "markdown",
   "metadata": {},
   "source": [
    "## Initial Setup"
   ]
  },
  {
   "cell_type": "code",
   "execution_count": null,
   "metadata": {},
   "outputs": [],
   "source": [
    "!pip install -U ultralytics wandb"
   ]
  },
  {
   "cell_type": "code",
   "execution_count": null,
   "metadata": {},
   "outputs": [],
   "source": [
    "import os\n",
    "import yaml\n",
    "\n",
    "from ultralytics import YOLO\n",
    "\n",
    "import wandb\n",
    "from wandb.integration.ultralytics import add_wandb_callback"
   ]
  },
  {
   "attachments": {},
   "cell_type": "markdown",
   "metadata": {},
   "source": [
    "## Initialize a WandB Run"
   ]
  },
  {
   "cell_type": "code",
   "execution_count": null,
   "metadata": {},
   "outputs": [],
   "source": [
    "wandb.init(project=\"object-detection-bdd\", job_type=\"baseline\")"
   ]
  },
  {
   "attachments": {},
   "cell_type": "markdown",
   "metadata": {},
   "source": [
    "## Fetch and preprocess the dataset"
   ]
  },
  {
   "attachments": {},
   "cell_type": "markdown",
   "metadata": {},
   "source": [
    "We first fetch the bdd-100k dataset hosted as a W&B dataset artifact."
   ]
  },
  {
   "cell_type": "code",
   "execution_count": null,
   "metadata": {},
   "outputs": [],
   "source": [
    "artifact = wandb.use_artifact(\n",
    "    \"reviewco/object-detection-bdd/bdd100k-ultralytics-format:latest\", type=\"dataset\"\n",
    ")\n",
    "artifact_dir = artifact.download()"
   ]
  },
  {
   "attachments": {},
   "cell_type": "markdown",
   "metadata": {},
   "source": [
    "Next, we preprocess the `data.yaml` file in the artifact, to set the absolute path to the dataset. This file would be used by Ultralytics to register the dataset and build the dataloader for training and validation."
   ]
  },
  {
   "cell_type": "code",
   "execution_count": null,
   "metadata": {},
   "outputs": [],
   "source": [
    "metadata_file = os.path.join(artifact_dir, \"data.yaml\")\n",
    "with open(metadata_file, \"r\") as yaml_file:\n",
    "    metadata = yaml.safe_load(yaml_file)\n",
    "metadata[\"path\"] = os.path.join(\n",
    "    os.path.dirname(os.path.realpath(__file__)), artifact_dir\n",
    ")\n",
    "with open(metadata_file, \"w\") as yaml_file:\n",
    "    yaml.dump(metadata, yaml_file)"
   ]
  },
  {
   "attachments": {},
   "cell_type": "markdown",
   "metadata": {},
   "source": [
    "## Training and Validation"
   ]
  },
  {
   "cell_type": "code",
   "execution_count": null,
   "metadata": {},
   "outputs": [],
   "source": [
    "# Define the YOLO model and load the respective pre-trained checkpoint\n",
    "model = YOLO(\"yolov8n.pt\")\n",
    "\n",
    "# Add the wandb callback for ultralytics, this would enable us to\n",
    "# utilize several advanced visualization features.\n",
    "add_wandb_callback(model, enable_model_checkpointing=True)"
   ]
  },
  {
   "cell_type": "code",
   "execution_count": null,
   "metadata": {},
   "outputs": [],
   "source": [
    "# Train the model\n",
    "model.train(data=metadata_file, epochs=5, imgsz=640)\n",
    "\n",
    "# Validate the model\n",
    "model.val()\n",
    "\n",
    "# Finish the experiment\n",
    "wandb.finish()"
   ]
  }
 ],
 "metadata": {
  "language_info": {
   "name": "python"
  },
  "orig_nbformat": 4
 },
 "nbformat": 4,
 "nbformat_minor": 2
}
